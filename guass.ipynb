{
 "cells": [
  {
   "cell_type": "markdown",
   "metadata": {},
   "source": [
    "DMM函数"
   ]
  },
  {
   "cell_type": "code",
   "execution_count": 2,
   "metadata": {},
   "outputs": [],
   "source": [
    "import random\n",
    "from matplotlib import pyplot as plt\n",
    "from matplotlib import font_manager\n",
    "import numpy as np\n",
    "import math\n",
    "def get_dmm(loc1,scale1,loc2,scale2,p,ran):\n",
    "    x=[]\n",
    "    for i in range(ran):\n",
    "        tmp=random.random()\n",
    "        if tmp<p:\n",
    "            a=np.random.normal(loc=loc1, scale=scale1, size=None)\n",
    "        else:\n",
    "            a=np.random.normal(loc=loc2, scale=scale2, size=None)\n",
    "        x.append(a)\n",
    "    return x"
   ]
  },
  {
   "cell_type": "code",
   "execution_count": null,
   "metadata": {},
   "outputs": [],
   "source": [
    "x=get_dmm(0.113,0.513,3.141,1.010,0.613,5000)\n",
    "plt.figure()\n",
    "plt.hist(x,bins=500,alpha=1)  #直方图关键操作 500还算不错\n",
    "plt.grid(alpha=0.5,linestyle='-.') #网格线\n",
    "plt.show()"
   ]
  },
  {
   "cell_type": "markdown",
   "metadata": {},
   "source": [
    "p对峰的影响"
   ]
  },
  {
   "cell_type": "code",
   "execution_count": null,
   "metadata": {},
   "outputs": [],
   "source": [
    "x_all=[]\n",
    "p_arr=[0.25,0.75]\n",
    "# 更改参数，讨论对峰的影响\n",
    "for p in p_arr:\n",
    "    x=get_dmm(0.114,0.514,3.141,1.010,p,5000)\n",
    "    x_all.append(x)\n",
    "plt.figure() \n",
    "for i in x_all:\n",
    "    plt.hist(i,bins=500,alpha=0.5)  #直方图关键操作 500还算不错\n",
    "    plt.grid(alpha=0.5,linestyle='-.') #网格线\n",
    "plt.show()\n"
   ]
  },
  {
   "cell_type": "code",
   "execution_count": null,
   "metadata": {},
   "outputs": [],
   "source": [
    "x_all=[]\n",
    "p_arr=[0.25,0.75]\n",
    "# 更改参数，讨论对峰的影响\n",
    "for p in p_arr:\n",
    "    x=get_dmm(0.114,0.514,3.141,1.010,p,5000)\n",
    "    x_all.append((x,p))\n",
    "plt.figure() \n",
    "for i in x_all:\n",
    "    plt.hist(i[0],bins=500,alpha=0.5,label=i[1])  #直方图关键操作 500还算不错\n",
    "    plt.grid(alpha=0.5,linestyle='-.') #网格线\n",
    "    plt.legend(loc=\"upper right\")\n",
    "plt.show()\n"
   ]
  },
  {
   "cell_type": "markdown",
   "metadata": {},
   "source": [
    "loc对峰的影响"
   ]
  },
  {
   "cell_type": "code",
   "execution_count": null,
   "metadata": {},
   "outputs": [],
   "source": [
    "x_all=[]\n",
    "p=0.613# 更改参数，讨论对峰的影响\n",
    "loc1_arr=[0.113,6.113]\n",
    "for loc1 in loc1_arr:\n",
    "    x=get_dmm(loc1,0.513,3.141,1.010,p,5000)\n",
    "    x_all.append((x,loc1))\n",
    "plt.figure() \n",
    "for i in x_all:\n",
    "    plt.hist(i[0],bins=500,alpha=0.5,label=i[1])  #直方图关键操作 500还算不错\n",
    "    plt.grid(alpha=0.5,linestyle='-.') #网格线\n",
    "    plt.legend(loc='upper right')\n",
    "    \n",
    "plt.show()\n",
    "\n",
    "\n"
   ]
  },
  {
   "cell_type": "code",
   "execution_count": null,
   "metadata": {},
   "outputs": [],
   "source": [
    "x_all=[]\n",
    "p=0.613# 更改参数，讨论对峰的影响\n",
    "loc1_arr=[0.113,2.113,4.113,6.113]\n",
    "for loc1 in loc1_arr:\n",
    "    x=get_dmm(loc1,0.513,3.141,1.010,p,5000)\n",
    "    x_all.append((x,loc1))\n",
    "\n",
    "tmp=0\n",
    "plt.figure() \n",
    "for i in x_all:\n",
    "    tmp+=1\n",
    "    plt.subplot(2,2,tmp)\n",
    "    plt.hist(i[0],bins=500,alpha=1,label=i[1])  #直方图关键操作 500还算不错\n",
    "    plt.grid(alpha=0.5,linestyle='-.') #网格线\n",
    "    plt.legend(loc='upper right')\n",
    "    \n",
    "plt.show()\n",
    "\n",
    "\n"
   ]
  },
  {
   "cell_type": "code",
   "execution_count": null,
   "metadata": {},
   "outputs": [],
   "source": [
    "x_all=[]\n",
    "p=0.613# 更改参数，讨论对峰的影响\n",
    "loc2_arr=[3.141,1.141]\n",
    "for loc2 in loc2_arr:\n",
    "    x=get_dmm(0.113,0.513,loc2,1.010,p,5000)\n",
    "    x_all.append((x,loc2))\n",
    "plt.figure() \n",
    "for i in x_all:\n",
    "    plt.hist(i[0],bins=500,alpha=0.5,label=i[1])  #直方图关键操作 500还算不错\n",
    "    plt.grid(alpha=0.5,linestyle='-.') #网格线\n",
    "    plt.legend(loc='upper right')\n",
    "    \n",
    "plt.show()\n"
   ]
  },
  {
   "cell_type": "code",
   "execution_count": null,
   "metadata": {},
   "outputs": [],
   "source": [
    "x_all=[]\n",
    "p=0.613# 更改参数，讨论对峰的影响\n",
    "loc2_arr=[0.141,2.141,4.141,6.141]\n",
    "for loc2 in loc2_arr:\n",
    "    x=get_dmm(0.113,0.513,loc2,1.010,p,5000)\n",
    "    x_all.append((x,loc2))\n",
    "plt.figure() \n",
    "tmp=0\n",
    "for i in x_all:\n",
    "    tmp+=1\n",
    "    plt.subplot(2,2,tmp)\n",
    "    plt.hist(i[0],bins=500,alpha=1,label=i[1])  #直方图关键操作 500还算不错\n",
    "    plt.grid(alpha=0.5,linestyle='-.') #网格线\n",
    "    plt.legend(loc='upper right')\n",
    "    \n",
    "plt.show()\n"
   ]
  },
  {
   "cell_type": "markdown",
   "metadata": {},
   "source": [
    "scale 对峰的影响"
   ]
  },
  {
   "cell_type": "code",
   "execution_count": null,
   "metadata": {},
   "outputs": [],
   "source": [
    "x_all=[]\n",
    "p=0.613# 更改参数，讨论对峰的影响\n",
    "sc1_arr=[0.513,1,1.513,2]\n",
    "for sc1 in sc1_arr:\n",
    "    x=get_dmm(0.113,sc1,3.141,1.010,p,5000)\n",
    "    x_all.append((x,sc1))\n",
    "plt.figure() \n",
    "tmp=0\n",
    "for i in x_all:\n",
    "    tmp+=1\n",
    "    plt.subplot(2,2,tmp)\n",
    "    plt.hist(i[0],bins=500,alpha=1,label=i[1])  #直方图关键操作 500还算不错\n",
    "    plt.grid(alpha=0.5,linestyle='-.') #网格线   \n",
    "    plt.legend(loc='upper right')\n",
    "plt.show()\n",
    "\n",
    "\n"
   ]
  },
  {
   "cell_type": "code",
   "execution_count": null,
   "metadata": {},
   "outputs": [],
   "source": [
    "x_all=[]\n",
    "p=0.613# 更改参数，讨论对峰的影响\n",
    "sc2_arr=[0.513,1]\n",
    "for sc2 in sc2_arr:\n",
    "    x=get_dmm(0.113,0.513,3.141,sc2,p,5000)\n",
    "    x_all.append((x,sc2))\n",
    "plt.figure() \n",
    "for i in x_all:\n",
    "    \n",
    "    plt.hist(i[0],bins=500,alpha=0.5,label=i[1])  #直方图关键操作 500还算不错\n",
    "    plt.grid(alpha=0.5,linestyle='-.') #网格线   \n",
    "    plt.legend(loc='upper right')\n",
    "plt.show()\n",
    "\n",
    "\n"
   ]
  },
  {
   "cell_type": "markdown",
   "metadata": {},
   "source": [
    "U函数"
   ]
  },
  {
   "cell_type": "code",
   "execution_count": 31,
   "metadata": {},
   "outputs": [],
   "source": [
    "import math\n",
    "def U(arr,n,DZ,EZ):\n",
    "    return (np.sum(arr)-n*EZ)/(math.sqrt(n*DZ))"
   ]
  },
  {
   "cell_type": "markdown",
   "metadata": {},
   "source": [
    "U的频率分布直方图"
   ]
  },
  {
   "cell_type": "code",
   "execution_count": null,
   "metadata": {},
   "outputs": [],
   "source": [
    "import seaborn as sns\n",
    "u_all=[]\n",
    "p=0.613\n",
    "EX=0.113+p*3.141\n",
    "DX=0.513+p*1.010\n",
    "for u_n in range(1000):\n",
    "    for i in range(1000):\n",
    "        x=[]\n",
    "        x=get_dmm(0.113,0.513,3.141,1.010,p,u_n)\n",
    "    u_all.append(U(x,u_n,EX,DX))\n",
    "sns.set_palette(\"hls\")\n",
    "sns.distplot(u_all,color=\"r\",bins=100,kde=True)\n",
    "plt.show()"
   ]
  },
  {
   "cell_type": "code",
   "execution_count": 76,
   "metadata": {},
   "outputs": [],
   "source": [
    "n_arr=[2,3,4,5,10,20,50,1000,5000]\n",
    "u_all=[]\n",
    "p=0.5\n",
    "EX=0.113+0.613*3.141\n",
    "DX=0.513+0.613*1.010\n",
    "for u_n in n_arr:\n",
    "    u_arr=[]\n",
    "    for i in range(1000):\n",
    "        x=[]\n",
    "        x=get_dmm(0.114,0.514,3.141,1.010,p,u_n)\n",
    "        u_arr.append(U(x,u_n,EX,DX))\n",
    "    u_all.append((u_arr,u_n))\n"
   ]
  },
  {
   "cell_type": "code",
   "execution_count": 77,
   "metadata": {},
   "outputs": [
    {
     "name": "stderr",
     "output_type": "stream",
     "text": [
      "/Users/liufazhong/opt/anaconda3/envs/pytor/lib/python3.7/site-packages/ipykernel_launcher.py:8: UserWarning: \n",
      "\n",
      "`distplot` is a deprecated function and will be removed in seaborn v0.14.0.\n",
      "\n",
      "Please adapt your code to use either `displot` (a figure-level function with\n",
      "similar flexibility) or `histplot` (an axes-level function for histograms).\n",
      "\n",
      "For a guide to updating your code to use the new functions, please see\n",
      "https://gist.github.com/mwaskom/de44147ed2974457ad6372750bbe5751\n",
      "\n",
      "  \n",
      "/Users/liufazhong/opt/anaconda3/envs/pytor/lib/python3.7/site-packages/ipykernel_launcher.py:8: UserWarning: \n",
      "\n",
      "`distplot` is a deprecated function and will be removed in seaborn v0.14.0.\n",
      "\n",
      "Please adapt your code to use either `displot` (a figure-level function with\n",
      "similar flexibility) or `histplot` (an axes-level function for histograms).\n",
      "\n",
      "For a guide to updating your code to use the new functions, please see\n",
      "https://gist.github.com/mwaskom/de44147ed2974457ad6372750bbe5751\n",
      "\n",
      "  \n",
      "/Users/liufazhong/opt/anaconda3/envs/pytor/lib/python3.7/site-packages/ipykernel_launcher.py:8: UserWarning: \n",
      "\n",
      "`distplot` is a deprecated function and will be removed in seaborn v0.14.0.\n",
      "\n",
      "Please adapt your code to use either `displot` (a figure-level function with\n",
      "similar flexibility) or `histplot` (an axes-level function for histograms).\n",
      "\n",
      "For a guide to updating your code to use the new functions, please see\n",
      "https://gist.github.com/mwaskom/de44147ed2974457ad6372750bbe5751\n",
      "\n",
      "  \n",
      "/Users/liufazhong/opt/anaconda3/envs/pytor/lib/python3.7/site-packages/ipykernel_launcher.py:8: UserWarning: \n",
      "\n",
      "`distplot` is a deprecated function and will be removed in seaborn v0.14.0.\n",
      "\n",
      "Please adapt your code to use either `displot` (a figure-level function with\n",
      "similar flexibility) or `histplot` (an axes-level function for histograms).\n",
      "\n",
      "For a guide to updating your code to use the new functions, please see\n",
      "https://gist.github.com/mwaskom/de44147ed2974457ad6372750bbe5751\n",
      "\n",
      "  \n",
      "/Users/liufazhong/opt/anaconda3/envs/pytor/lib/python3.7/site-packages/ipykernel_launcher.py:8: UserWarning: \n",
      "\n",
      "`distplot` is a deprecated function and will be removed in seaborn v0.14.0.\n",
      "\n",
      "Please adapt your code to use either `displot` (a figure-level function with\n",
      "similar flexibility) or `histplot` (an axes-level function for histograms).\n",
      "\n",
      "For a guide to updating your code to use the new functions, please see\n",
      "https://gist.github.com/mwaskom/de44147ed2974457ad6372750bbe5751\n",
      "\n",
      "  \n",
      "/Users/liufazhong/opt/anaconda3/envs/pytor/lib/python3.7/site-packages/ipykernel_launcher.py:8: UserWarning: \n",
      "\n",
      "`distplot` is a deprecated function and will be removed in seaborn v0.14.0.\n",
      "\n",
      "Please adapt your code to use either `displot` (a figure-level function with\n",
      "similar flexibility) or `histplot` (an axes-level function for histograms).\n",
      "\n",
      "For a guide to updating your code to use the new functions, please see\n",
      "https://gist.github.com/mwaskom/de44147ed2974457ad6372750bbe5751\n",
      "\n",
      "  \n",
      "/Users/liufazhong/opt/anaconda3/envs/pytor/lib/python3.7/site-packages/ipykernel_launcher.py:8: UserWarning: \n",
      "\n",
      "`distplot` is a deprecated function and will be removed in seaborn v0.14.0.\n",
      "\n",
      "Please adapt your code to use either `displot` (a figure-level function with\n",
      "similar flexibility) or `histplot` (an axes-level function for histograms).\n",
      "\n",
      "For a guide to updating your code to use the new functions, please see\n",
      "https://gist.github.com/mwaskom/de44147ed2974457ad6372750bbe5751\n",
      "\n",
      "  \n",
      "/Users/liufazhong/opt/anaconda3/envs/pytor/lib/python3.7/site-packages/ipykernel_launcher.py:8: UserWarning: \n",
      "\n",
      "`distplot` is a deprecated function and will be removed in seaborn v0.14.0.\n",
      "\n",
      "Please adapt your code to use either `displot` (a figure-level function with\n",
      "similar flexibility) or `histplot` (an axes-level function for histograms).\n",
      "\n",
      "For a guide to updating your code to use the new functions, please see\n",
      "https://gist.github.com/mwaskom/de44147ed2974457ad6372750bbe5751\n",
      "\n",
      "  \n",
      "/Users/liufazhong/opt/anaconda3/envs/pytor/lib/python3.7/site-packages/ipykernel_launcher.py:8: UserWarning: \n",
      "\n",
      "`distplot` is a deprecated function and will be removed in seaborn v0.14.0.\n",
      "\n",
      "Please adapt your code to use either `displot` (a figure-level function with\n",
      "similar flexibility) or `histplot` (an axes-level function for histograms).\n",
      "\n",
      "For a guide to updating your code to use the new functions, please see\n",
      "https://gist.github.com/mwaskom/de44147ed2974457ad6372750bbe5751\n",
      "\n",
      "  \n"
     ]
    },
    {
     "data": {
      "image/png": "[encoded data removed]",
      "text/plain": [
       "<Figure size 640x480 with 9 Axes>"
      ]
     },
     "metadata": {},
     "output_type": "display_data"
    }
   ],
   "source": [
    "tmp=0\n",
    "plt.figure()\n",
    "\n",
    "for i in u_all:\n",
    "    tmp+=1\n",
    "    plt.subplot(3,3,tmp)\n",
    "    sns.set_palette(\"hls\")\n",
    "    sns.distplot(i[0],color=\"r\",bins=100,kde=True,label=i[1])\n",
    "    plt.legend(loc='upper right',fontsize=7,  title_fontsize=7)  ##设置图例title大小)\n",
    "plt.show()"
   ]
  },
  {
   "cell_type": "code",
   "execution_count": null,
   "metadata": {},
   "outputs": [],
   "source": [
    "tmp=0\n",
    "plt.figure()\n",
    "\n",
    "for i in u_all:\n",
    "    tmp+=1\n",
    "    plt.subplot(3,3,tmp)\n",
    "    plt.hist(i[0],bins=100,alpha=1,label=i[1])  #直方图关键操作 500还算不错\n",
    "    plt.legend(loc='upper right',fontsize=7,  title_fontsize=7)  ##设置图例title大小)\n",
    "plt.show()\n",
    "    "
   ]
  }
 ],
 "metadata": {
  "kernelspec": {
   "display_name": "Python 3.7.13 ('pytor')",
   "language": "python",
   "name": "python3"
  },
  "language_info": {
   "codemirror_mode": {
    "name": "ipython",
    "version": 3
   },
   "file_extension": ".py",
   "mimetype": "text/x-python",
   "name": "python",
   "nbconvert_exporter": "python",
   "pygments_lexer": "ipython3",
   "version": "3.7.13"
  },
  "orig_nbformat": 4,
  "vscode": {
   "interpreter": {
    "hash": "8735e5a44aaffc82247471f98e61afd3a8c083af1d83bb5f2428c9ba5da5121f"
   }
  }
 },
 "nbformat": 4,
 "nbformat_minor": 2
}
