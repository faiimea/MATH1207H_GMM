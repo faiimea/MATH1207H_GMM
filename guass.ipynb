{
 "cells": [
  {
   "cell_type": "markdown",
   "metadata": {},
   "source": [
    "DMM函数"
   ]
  },
  {
   "cell_type": "code",
   "execution_count": 42,
   "metadata": {},
   "outputs": [],
   "source": [
    "import random\n",
    "from matplotlib import pyplot as plt\n",
    "from matplotlib import font_manager\n",
    "import numpy as np\n",
    "import math\n",
    "def get_dmm(loc1,scale1,loc2,scale2,p,ran):\n",
    "    x=[]\n",
    "    for i in range(ran):\n",
    "        tmp=random.random()\n",
    "        if tmp<p:\n",
    "            a=np.random.normal(loc=loc1, scale=scale1, size=None)\n",
    "        else:\n",
    "            a=np.random.normal(loc=loc2, scale=scale2, size=None)\n",
    "        x.append(a)\n",
    "    return x"
   ]
  },
  {
   "cell_type": "markdown",
   "metadata": {},
   "source": [
    "p对峰的影响"
   ]
  },
  {
   "cell_type": "code",
   "execution_count": null,
   "metadata": {},
   "outputs": [],
   "source": [
    "x_all=[]\n",
    "p_arr=[0.25,0.75]\n",
    "# 更改参数，讨论对峰的影响\n",
    "for p in p_arr:\n",
    "    x=get_dmm(0.114,0.514,3.141,1.010,p,5000)\n",
    "    x_all.append(x)\n",
    "plt.figure() \n",
    "for i in x_all:\n",
    "    plt.hist(i,bins=500,alpha=0.5)  #直方图关键操作 500还算不错\n",
    "    plt.grid(alpha=0.5,linestyle='-.') #网格线\n",
    "    \n",
    "plt.show()\n",
    "\n",
    "\n"
   ]
  },
  {
   "cell_type": "markdown",
   "metadata": {},
   "source": [
    "loc对峰的影响"
   ]
  },
  {
   "cell_type": "code",
   "execution_count": null,
   "metadata": {},
   "outputs": [],
   "source": [
    "x_all=[]\n",
    "p=0.7# 更改参数，讨论对峰的影响\n",
    "loc1_arr=[0.114,6.114]\n",
    "for loc1 in loc1_arr:\n",
    "    x=get_dmm(loc1,0.514,3.141,1.010,p,5000)\n",
    "    x_all.append(x)\n",
    "plt.figure() \n",
    "for i in x_all:\n",
    "    plt.hist(i,bins=500,alpha=0.5)  #直方图关键操作 500还算不错\n",
    "    plt.grid(alpha=0.5,linestyle='-.') #网格线\n",
    "    \n",
    "plt.show()\n",
    "\n",
    "\n"
   ]
  },
  {
   "cell_type": "markdown",
   "metadata": {},
   "source": [
    "U函数"
   ]
  },
  {
   "cell_type": "code",
   "execution_count": 10,
   "metadata": {},
   "outputs": [],
   "source": [
    "import math\n",
    "def U(arr,n,DZ,EZ):\n",
    "    return (np.sum(arr)-n*EZ)/(math.sqrt(n*DZ))"
   ]
  },
  {
   "cell_type": "markdown",
   "metadata": {},
   "source": [
    "U的频率分布直方图"
   ]
  },
  {
   "cell_type": "code",
   "execution_count": null,
   "metadata": {},
   "outputs": [],
   "source": [
    "u_arr=[]\n",
    "EX=0.114+0.5*3.141\n",
    "DX=0.514+0.5*0.514\n",
    "for i in range(1000):\n",
    "    x=[]\n",
    "    p=0.5\n",
    "    n=5000\n",
    "    x=get_dmm(0.114,0.514,3.141,1.010,p,n)\n",
    "    u_arr.append(U(x,n,EX,DX))\n",
    "plt.figure() \n",
    "plt.hist(x,bins=500)  #直方图关键操作 500还算不错\n",
    "plt.grid(alpha=0.5,linestyle='-.') #网格线\n",
    "plt.show()"
   ]
  }
 ],
 "metadata": {
  "kernelspec": {
   "display_name": "Python 3.7.13 ('pytor')",
   "language": "python",
   "name": "python3"
  },
  "language_info": {
   "codemirror_mode": {
    "name": "ipython",
    "version": 3
   },
   "file_extension": ".py",
   "mimetype": "text/x-python",
   "name": "python",
   "nbconvert_exporter": "python",
   "pygments_lexer": "ipython3",
   "version": "3.7.13"
  },
  "orig_nbformat": 4,
  "vscode": {
   "interpreter": {
    "hash": "8735e5a44aaffc82247471f98e61afd3a8c083af1d83bb5f2428c9ba5da5121f"
   }
  }
 },
 "nbformat": 4,
 "nbformat_minor": 2
}
